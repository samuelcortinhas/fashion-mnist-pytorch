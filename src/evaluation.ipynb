{
 "cells": [
  {
   "cell_type": "code",
   "execution_count": 1,
   "metadata": {},
   "outputs": [],
   "source": [
    "import json\n",
    "\n",
    "import torch\n",
    "from torch.utils.data import DataLoader\n",
    "\n",
    "from dataset import FashionMNIST, load_data\n",
    "from inference import load_model, inference"
   ]
  },
  {
   "cell_type": "code",
   "execution_count": 2,
   "metadata": {},
   "outputs": [],
   "source": [
    "# Configuration\n",
    "with open(\"../config.json\", \"r\") as f:\n",
    "    cfg = json.load(f)\n",
    "\n",
    "# Load test data\n",
    "_, _, X_test, _, _, y_test = load_data(\n",
    "    train_path=f\"../{cfg['train_path']}\", test_path=f\"../{cfg['test_path']}\", debug=cfg[\"debug\"]\n",
    ")\n",
    "\n",
    "# Dataset and dataloader\n",
    "test_dataset = FashionMNIST(X=X_test, y=y_test)\n",
    "test_loader = DataLoader(\n",
    "    dataset=test_dataset, batch_size=cfg[\"batch_size\"], shuffle=False\n",
    ")"
   ]
  },
  {
   "cell_type": "code",
   "execution_count": 3,
   "metadata": {},
   "outputs": [
    {
     "data": {
      "text/plain": [
       "ConvNet(\n",
       "  (conv1): Conv2d(1, 64, kernel_size=(5, 5), stride=(1, 1), padding=(2, 2))\n",
       "  (pool): MaxPool2d(kernel_size=2, stride=2, padding=0, dilation=1, ceil_mode=False)\n",
       "  (conv2): Conv2d(64, 128, kernel_size=(3, 3), stride=(1, 1), padding=(1, 1))\n",
       "  (flat): Flatten(start_dim=1, end_dim=-1)\n",
       "  (fc1): Linear(in_features=6272, out_features=256, bias=True)\n",
       "  (fc2): Linear(in_features=256, out_features=128, bias=True)\n",
       "  (fc3): Linear(in_features=128, out_features=10, bias=True)\n",
       "  (relu): ReLU()\n",
       "  (drop): Dropout(p=0.25, inplace=False)\n",
       ")"
      ]
     },
     "execution_count": 3,
     "metadata": {},
     "output_type": "execute_result"
    }
   ],
   "source": [
    "# Load trained model\n",
    "model = load_model(f\"../models/{cfg['save_model_name']}.pt\")\n",
    "model"
   ]
  },
  {
   "cell_type": "code",
   "execution_count": 4,
   "metadata": {},
   "outputs": [
    {
     "name": "stdout",
     "output_type": "stream",
     "text": [
      "Overall accuracy on test set: 59.0 %\n",
      "\n",
      "Accuracy of 0 T-shirt/top: 56.5 %\n",
      "Accuracy of 1 Trouser: 88.2 %\n",
      "Accuracy of 2 Pullover: 20.0 %\n",
      "Accuracy of 3 Dress: 88.0 %\n",
      "Accuracy of 4 Coat: 58.6 %\n",
      "Accuracy of 5 Sandal: 62.5 %\n",
      "Accuracy of 6 Shirt: 0.0 %\n",
      "Accuracy of 7 Sneaker: 100.0 %\n",
      "Accuracy of 8 Bag: 61.5 %\n",
      "Accuracy of 9 Ankle boot: 57.9 %\n"
     ]
    }
   ],
   "source": [
    "# Classes\n",
    "classes = [\n",
    "    \"0 T-shirt/top\",\n",
    "    \"1 Trouser\",\n",
    "    \"2 Pullover\",\n",
    "    \"3 Dress\",\n",
    "    \"4 Coat\",\n",
    "    \"5 Sandal\",\n",
    "    \"6 Shirt\",\n",
    "    \"7 Sneaker\",\n",
    "    \"8 Bag\",\n",
    "    \"9 Ankle boot\",\n",
    "]\n",
    "\n",
    "# Initialise\n",
    "n_correct=0\n",
    "n_samples=0\n",
    "\n",
    "n_class_correct = [0 for i in range(10)]\n",
    "n_class_sample = [0 for i in range(10)]\n",
    "\n",
    "device = torch.device(\"cuda\" if torch.cuda.is_available() else \"cpu\")\n",
    "\n",
    "for imgs, labels in test_loader:\n",
    "    # Made predictions\n",
    "    preds = inference(model, imgs)\n",
    "\n",
    "    # Measure accuracy\n",
    "    n_samples += labels.shape[0]\n",
    "    n_correct += (preds == labels).sum().item()\n",
    "    \n",
    "    for i in range(cfg[\"batch_size\"]):\n",
    "        try:\n",
    "            label = labels[i].item()\n",
    "            pred = preds[i].item()\n",
    "        except:\n",
    "            break\n",
    "        \n",
    "        if (label==pred):\n",
    "            n_class_correct[label]+=1\n",
    "        n_class_sample[label]+=1\n",
    "\n",
    "acc = 100 * n_correct/n_samples\n",
    "print(f'Overall accuracy on test set: {acc:.1f} %\\n')\n",
    "\n",
    "for i in range(10):\n",
    "    print(f'Accuracy of {classes[i]}: {100* n_class_correct[i]/n_class_sample[i]:.1f} %')"
   ]
  }
 ],
 "metadata": {
  "kernelspec": {
   "display_name": "pytorch",
   "language": "python",
   "name": "python3"
  },
  "language_info": {
   "codemirror_mode": {
    "name": "ipython",
    "version": 3
   },
   "file_extension": ".py",
   "mimetype": "text/x-python",
   "name": "python",
   "nbconvert_exporter": "python",
   "pygments_lexer": "ipython3",
   "version": "3.9.16"
  },
  "orig_nbformat": 4
 },
 "nbformat": 4,
 "nbformat_minor": 2
}
